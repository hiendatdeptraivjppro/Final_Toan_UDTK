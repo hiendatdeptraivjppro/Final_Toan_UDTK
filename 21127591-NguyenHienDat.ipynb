{
 "cells": [
  {
   "cell_type": "markdown",
   "id": "882bf5f8-64f8-4845-a21e-1d947b1b9f56",
   "metadata": {},
   "source": [
    "## Cau 1"
   ]
  },
  {
   "cell_type": "code",
   "execution_count": 1,
   "id": "c1551d45-70d2-4e88-ae3c-704f505fd661",
   "metadata": {},
   "outputs": [],
   "source": [
    "def matrix(n):\n",
    "    A = [[0] * n for x in range(n)]\n",
    "    for i in range(n):\n",
    "        for j in range(n):\n",
    "            if i % 2 == 0:\n",
    "                if j % 2 == 0:\n",
    "                    A[i][j] = 0\n",
    "                else:\n",
    "                    A[i][j] = 1\n",
    "            else:\n",
    "                if j % 2 == 0:\n",
    "                    A[i][j] = 1\n",
    "                else:\n",
    "                    A[i][j] = 0\n",
    "    return A"
   ]
  },
  {
   "cell_type": "code",
   "execution_count": 2,
   "id": "5981e0c1-c2c9-475f-89ae-ba8b7928e404",
   "metadata": {},
   "outputs": [
    {
     "data": {
      "text/plain": [
       "[[0]]"
      ]
     },
     "execution_count": 2,
     "metadata": {},
     "output_type": "execute_result"
    }
   ],
   "source": [
    "matrix(1)"
   ]
  },
  {
   "cell_type": "code",
   "execution_count": 3,
   "id": "972dfc1e-bbe9-4cd1-98b8-d28b61d0509e",
   "metadata": {},
   "outputs": [
    {
     "data": {
      "text/plain": [
       "[[0, 1], [1, 0]]"
      ]
     },
     "execution_count": 3,
     "metadata": {},
     "output_type": "execute_result"
    }
   ],
   "source": [
    "matrix(2)"
   ]
  },
  {
   "cell_type": "code",
   "execution_count": 4,
   "id": "1d8721e7-29fd-47fe-88d8-1d14df086362",
   "metadata": {},
   "outputs": [
    {
     "data": {
      "text/plain": [
       "[[0, 1, 0], [1, 0, 1], [0, 1, 0]]"
      ]
     },
     "execution_count": 4,
     "metadata": {},
     "output_type": "execute_result"
    }
   ],
   "source": [
    "matrix(3)"
   ]
  },
  {
   "cell_type": "code",
   "execution_count": 5,
   "id": "4961b002-9217-48c2-b034-f57abfcadf8f",
   "metadata": {},
   "outputs": [
    {
     "data": {
      "text/plain": [
       "[[0, 1, 0, 1, 0],\n",
       " [1, 0, 1, 0, 1],\n",
       " [0, 1, 0, 1, 0],\n",
       " [1, 0, 1, 0, 1],\n",
       " [0, 1, 0, 1, 0]]"
      ]
     },
     "execution_count": 5,
     "metadata": {},
     "output_type": "execute_result"
    }
   ],
   "source": [
    "matrix(5)"
   ]
  },
  {
   "cell_type": "code",
   "execution_count": 6,
   "id": "39bc7894-5d91-4789-a6d8-e8b518496510",
   "metadata": {},
   "outputs": [
    {
     "data": {
      "text/plain": [
       "[[0, 1, 0, 1, 0, 1],\n",
       " [1, 0, 1, 0, 1, 0],\n",
       " [0, 1, 0, 1, 0, 1],\n",
       " [1, 0, 1, 0, 1, 0],\n",
       " [0, 1, 0, 1, 0, 1],\n",
       " [1, 0, 1, 0, 1, 0]]"
      ]
     },
     "execution_count": 6,
     "metadata": {},
     "output_type": "execute_result"
    }
   ],
   "source": [
    "matrix(6)"
   ]
  },
  {
   "cell_type": "markdown",
   "id": "c1f2dd01-cb6f-4e41-b9db-0f36499e0c7a",
   "metadata": {},
   "source": [
    "## Cau 2"
   ]
  },
  {
   "cell_type": "code",
   "execution_count": 15,
   "id": "189c1d6e-f869-47bb-bcb9-9fdf88353907",
   "metadata": {},
   "outputs": [],
   "source": [
    "def Star(n):\n",
    "    for i in range(n):\n",
    "        for j in range(i+1):\n",
    "            print('*',end='')\n",
    "        print('\\n')"
   ]
  },
  {
   "cell_type": "code",
   "execution_count": 17,
   "id": "06840957-91ff-4191-be33-86907f60e081",
   "metadata": {},
   "outputs": [
    {
     "name": "stdout",
     "output_type": "stream",
     "text": [
      "*\n",
      "\n",
      "**\n",
      "\n",
      "***\n",
      "\n",
      "****\n",
      "\n",
      "*****\n",
      "\n"
     ]
    }
   ],
   "source": [
    "Star(5)"
   ]
  },
  {
   "cell_type": "code",
   "execution_count": 18,
   "id": "62eba629-d63e-497f-b885-0ab8a6c335b3",
   "metadata": {},
   "outputs": [
    {
     "name": "stdout",
     "output_type": "stream",
     "text": [
      "*\n",
      "\n",
      "**\n",
      "\n",
      "***\n",
      "\n",
      "****\n",
      "\n",
      "*****\n",
      "\n",
      "******\n",
      "\n"
     ]
    }
   ],
   "source": [
    "Star(6)"
   ]
  },
  {
   "cell_type": "markdown",
   "id": "11e20cd0-a498-4064-8efe-1685923028dd",
   "metadata": {},
   "source": [
    "## Cau 3"
   ]
  },
  {
   "cell_type": "code",
   "execution_count": 35,
   "id": "7e2cca1d-91a7-4f37-8320-f41d24bffb48",
   "metadata": {},
   "outputs": [],
   "source": [
    "import pandas as pd\n",
    "import numpy as np\n",
    "df=pd.read_csv('admission.csv')\n",
    "A=df.values.tolist()\n",
    "A=np.array(A)\n",
    "\n",
    "Gre=A[:,0]\n",
    "TOEFL=A[:,1]\n",
    "CGPA=A[:,2]\n",
    "chance_admit=A[:,3]"
   ]
  },
  {
   "cell_type": "code",
   "execution_count": 37,
   "id": "100106aa-0039-41e4-a45f-bffc0661b672",
   "metadata": {},
   "outputs": [
    {
     "data": {
      "image/png": "[encoded data removed]",
      "text/plain": [
       "<Figure size 640x480 with 1 Axes>"
      ]
     },
     "metadata": {},
     "output_type": "display_data"
    }
   ],
   "source": [
    "import matplotlib.pyplot as plt\n",
    "import numpy as np\n",
    "\n",
    "xpoints = Gre\n",
    "ypoints = chance_admit\n",
    "\n",
    "plt.plot(xpoints, ypoints,'o')\n",
    "plt.show()"
   ]
  },
  {
   "cell_type": "code",
   "execution_count": 39,
   "id": "7f31e334-8b0c-4e38-a422-6dc53b224e84",
   "metadata": {},
   "outputs": [
    {
     "data": {
      "image/png": "[encoded data removed]",
      "text/plain": [
       "<Figure size 640x480 with 1 Axes>"
      ]
     },
     "metadata": {},
     "output_type": "display_data"
    }
   ],
   "source": [
    "import matplotlib.pyplot as plt\n",
    "import numpy as np\n",
    "\n",
    "xpoints = TOEFL\n",
    "ypoints = chance_admit\n",
    "\n",
    "plt.plot(xpoints, ypoints,'o')\n",
    "plt.show()"
   ]
  },
  {
   "cell_type": "code",
   "execution_count": 40,
   "id": "d471dd57-82c1-4606-9193-2cb6b8d9170e",
   "metadata": {},
   "outputs": [
    {
     "data": {
      "image/png": "[encoded data removed]",
      "text/plain": [
       "<Figure size 640x480 with 1 Axes>"
      ]
     },
     "metadata": {},
     "output_type": "display_data"
    }
   ],
   "source": [
    "import matplotlib.pyplot as plt\n",
    "import numpy as np\n",
    "\n",
    "xpoints = CGPA\n",
    "ypoints = chance_admit\n",
    "\n",
    "plt.plot(xpoints, ypoints,'o')\n",
    "plt.show()"
   ]
  },
  {
   "cell_type": "markdown",
   "id": "51e5c9b8-3631-4064-9619-ab081335a58c",
   "metadata": {},
   "source": [
    "Theo hình vẽ, đại lượng Chance Admit phụ thuộc theo đại lượng CGPA nhiều nhất."
   ]
  },
  {
   "cell_type": "code",
   "execution_count": 42,
   "id": "1a8bb0ff-0bd7-4435-ab31-efaa3672a7a5",
   "metadata": {},
   "outputs": [],
   "source": [
    "def getAb(xs, ys):\n",
    "    col1 = np.ones(len(xs))\n",
    "    colx = np.array(xs)\n",
    "    A = np.array([col1, colx]).T\n",
    "    b = np.array(ys).reshape(len(ys), 1)\n",
    "    return A, b"
   ]
  },
  {
   "cell_type": "code",
   "execution_count": 85,
   "id": "cdf5ee8c-ddcf-419b-963b-1db94d033fa1",
   "metadata": {},
   "outputs": [],
   "source": [
    "def vector_norm(v):\n",
    "    return sum(vi ** 2 for vi in v) ** 0.5"
   ]
  },
  {
   "cell_type": "code",
   "execution_count": 88,
   "id": "9c2b0244-6d31-4ebe-8bf8-bbe543b8e9b8",
   "metadata": {},
   "outputs": [
    {
     "name": "stdout",
     "output_type": "stream",
     "text": [
      "[[-1.07151166]\n",
      " [ 0.20884723]]\n",
      "y=[-1.07151166]+[0.20884723]x\n",
      "Chuan cua vecto phan du:\n",
      "[1.38785399]\n"
     ]
    }
   ],
   "source": [
    "x,y=getAb(CGPA,chance_admit)\n",
    "x_hat = np.linalg.inv(np.matmul(np.transpose(x),x)) @ np.matmul(np.transpose(x),y)\n",
    "print(x_hat)\n",
    "print(f'y={x_hat[0]}+{x_hat[1]}x')\n",
    "print('Chuan cua vecto phan du:')\n",
    "norm=vector_norm(x@x_hat-y)\n",
    "print(norm)"
   ]
  },
  {
   "cell_type": "markdown",
   "id": "9ad40f68-b6bd-4708-beb6-667c5e6377ab",
   "metadata": {},
   "source": [
    "## Cau 4"
   ]
  },
  {
   "cell_type": "code",
   "execution_count": 77,
   "id": "a49ac39c-04e3-4fb8-8918-e60aeee5c622",
   "metadata": {},
   "outputs": [],
   "source": [
    "import numpy as np\n",
    "def matrix_power(a, power):\n",
    "    if power == 0:\n",
    "        B = [[0] * len(A[0]) for x in range(len(A))]\n",
    "        for i in range(len(A)):\n",
    "            for j in range(len(A[0])):\n",
    "                if i == j:\n",
    "                    B[i][j]=1\n",
    "        return np.array(B)\n",
    "    \n",
    "    if power == 1:\n",
    "        return np.array(a)\n",
    "    \n",
    "    rows = len(a)\n",
    "    columns = len(a[0])\n",
    "    result = np.zeros((rows, columns))\n",
    "    b = a\n",
    "    for step in range(1, power):\n",
    "        result = np.zeros((rows, columns))\n",
    "        for i in range(0, rows):\n",
    "            for j in range(0, columns):\n",
    "                for m in range(0, rows):\n",
    "                    result[i][j] += a[i][m] * b[m][j]      \n",
    "        a = result\n",
    "    return result"
   ]
  },
  {
   "cell_type": "code",
   "execution_count": 80,
   "id": "5150059d-46e4-4aca-8fb8-646aed02d369",
   "metadata": {},
   "outputs": [
    {
     "data": {
      "text/plain": [
       "array([[4605., 4234., 5576.],\n",
       "       [6247., 5758., 7608.],\n",
       "       [3563., 3270., 4312.]])"
      ]
     },
     "execution_count": 80,
     "metadata": {},
     "output_type": "execute_result"
    }
   ],
   "source": [
    "A=[[1,2,4],[5,2,2],[1,2,2]]\n",
    "matrix_power(A,5)"
   ]
  },
  {
   "cell_type": "markdown",
   "id": "110be207-0acf-4e4c-9710-3084ddde2045",
   "metadata": {},
   "source": [
    "## Cau 5"
   ]
  },
  {
   "cell_type": "code",
   "execution_count": 94,
   "id": "7cadb0ea-cbc1-4c86-baa2-841c346d6662",
   "metadata": {},
   "outputs": [],
   "source": [
    "import numpy as np\n",
    "def Markov(n):\n",
    "    P = np.random.rand (n, n)\n",
    "    P = P / P.sum (axis=1, keepdims=True)\n",
    "    print (\"Ma tran xac suat chuyen:\")\n",
    "    print(P)\n",
    "    pi = np.random.rand(n)\n",
    "    pi = pi / pi.sum()\n",
    "    print (\"Vector phan phoi xac suat dau:\")\n",
    "    print (pi)"
   ]
  },
  {
   "cell_type": "code",
   "execution_count": 95,
   "id": "08945129-d8fd-4e5e-a356-36e8cd6ca87d",
   "metadata": {},
   "outputs": [
    {
     "name": "stdout",
     "output_type": "stream",
     "text": [
      "Ma tran xac suat chuyen:\n",
      "[[0.00121141 0.2409044  0.20579993 0.33554098 0.21654328]\n",
      " [0.13809193 0.19787833 0.1651786  0.40108448 0.09776665]\n",
      " [0.28591619 0.04404417 0.1384522  0.48454934 0.04703809]\n",
      " [0.10439289 0.25110343 0.19467205 0.23409039 0.21574124]\n",
      " [0.24625533 0.33422239 0.08130279 0.05321948 0.28500001]]\n",
      "Vector phan phoi xac suat dau:\n",
      "[0.13705017 0.25230995 0.17931405 0.20472872 0.22659711]\n"
     ]
    }
   ],
   "source": [
    "Markov(5)"
   ]
  },
  {
   "cell_type": "code",
   "execution_count": 101,
   "id": "142db7f2-a1b4-4271-b38a-1f3cf3b9e950",
   "metadata": {},
   "outputs": [
    {
     "name": "stdout",
     "output_type": "stream",
     "text": [
      "Vector phân phối tại thời điểm 3 :\n",
      "[0.30886934 0.09934258 0.19384786 0.22477899 0.17316123]\n",
      "Vector phân phối tại thời điểm 10 :\n",
      "[0.30706534 0.09925901 0.19104518 0.22790437 0.1747261 ]\n"
     ]
    }
   ],
   "source": [
    "k1 = 3\n",
    "k2 = 10\n",
    "pi_k1 = np.dot (pi, np.linalg.matrix_power (P, k1))\n",
    "pi_k2 = np.dot (pi, np.linalg.matrix_power (P, k2))\n",
    "print (\"Vector phân phối tại thời điểm\", k1, \":\")\n",
    "print (pi_k1)\n",
    "print (\"Vector phân phối tại thời điểm\", k2, \":\")\n",
    "print (pi_k2)\n",
    "\n"
   ]
  },
  {
   "cell_type": "code",
   "execution_count": null,
   "id": "8cb363dc-285e-4806-b1e3-6baed027e811",
   "metadata": {},
   "outputs": [],
   "source": []
  }
 ],
 "metadata": {
  "kernelspec": {
   "display_name": "Python 3 (ipykernel)",
   "language": "python",
   "name": "python3"
  },
  "language_info": {
   "codemirror_mode": {
    "name": "ipython",
    "version": 3
   },
   "file_extension": ".py",
   "mimetype": "text/x-python",
   "name": "python",
   "nbconvert_exporter": "python",
   "pygments_lexer": "ipython3",
   "version": "3.7.15"
  }
 },
 "nbformat": 4,
 "nbformat_minor": 5
}
